{
 "cells": [
  {
   "cell_type": "markdown",
   "metadata": {},
   "source": [
    "# Nick's TA Session, 04/23/18\n",
    "\n",
    "### Today's Objectives\n",
    "- Build familiarity with data structures\n",
    "- Be comfortable with Jupyter Notebook\n",
    "- Know when to use Jupyter Notebook (and when to **not**)\n",
    "- Understand importing files (and where to do so)\n",
    "- Understanding commenting style in python\n",
    "\n",
    "### The Task\n",
    "You are a data reporter for your favorite news outlet. To keep up with the bustling media competition, your outlet wants to report on the Stormy Daniels saga. Your task will be to report on the following:\n",
    "- Donald Trump's favorite wives.\n",
    "- Michael Cohen's favorite clients.\n",
    "- Give an update on the Mueller investigation."
   ]
  },
  {
   "cell_type": "code",
   "execution_count": 1,
   "metadata": {},
   "outputs": [],
   "source": [
    "import solution\n",
    "\n",
    "WIVES = {'Donald Trump': ['Ivana', 'Marla', 'Melania']}\n",
    "CROOKS = {'Michael Cohen': ['Trump', 'Broidy', 'Hannity']}"
   ]
  },
  {
   "cell_type": "markdown",
   "metadata": {},
   "source": [
    "### Subtasks\n",
    "1. Complete `helper.py` by completing the function `get_ranks`\n",
    "2. Have `get_ranks` return a dictionary of dictionaries (The inner dictionary has a key:value pair --> element:position of the list in the input dictionary)\n",
    "     \n",
    "3. Show the rankings of Trump's wives by time and Cohen's clients by crookedness using `helper.get_ranks`"
   ]
  },
  {
   "cell_type": "code",
   "execution_count": 2,
   "metadata": {},
   "outputs": [
    {
     "name": "stdout",
     "output_type": "stream",
     "text": [
      "{'Donald Trump': {'Ivana': 1, 'Marla': 2, 'Melania': 3}}\n",
      "{'Michael Cohen': {'Trump': 1, 'Broidy': 2, 'Hannity': 3}}\n"
     ]
    }
   ],
   "source": [
    "print(solution.get_ranks(WIVES))\n",
    "print(solution.get_ranks(CROOKS))"
   ]
  },
  {
   "cell_type": "markdown",
   "metadata": {},
   "source": [
    "### Update on the Mueller Investigation\n",
    "The lead data journalist wants an ordered data structure (similar to WIVES and CROOKS above) on individuals indicted by Mueller's team. [Sources](https://www.vox.com/policy-and-politics/2018/2/20/17031772/mueller-indictments-grand-jury) say there are quite a few.\n",
    "\n",
    "1. Make `the_russians` a list of 13 \"nationals\" and 3 \"companies\" with concise code.\n",
    "2. Make a dictionary, `COLLUDERS`, with a key 'Indicted' and a value of the three lists in order.\n",
    "3. Run said data structure through your completed `get_ranks` function."
   ]
  },
  {
   "cell_type": "code",
   "execution_count": 3,
   "metadata": {},
   "outputs": [],
   "source": [
    "the_campaigners = ['George Papadopoulos', 'Michael Flynn', 'Paul Manafort', 'Rick Gates']\n",
    "the_russians = ['nationals']*13 + ['companies']*3 \n",
    "the_other_guys = ['Richard Pinedo', 'Alex van der Zwaan']"
   ]
  },
  {
   "cell_type": "code",
   "execution_count": 4,
   "metadata": {},
   "outputs": [
    {
     "data": {
      "text/plain": [
       "['nationals',\n",
       " 'nationals',\n",
       " 'nationals',\n",
       " 'nationals',\n",
       " 'nationals',\n",
       " 'nationals',\n",
       " 'nationals',\n",
       " 'nationals',\n",
       " 'nationals',\n",
       " 'nationals',\n",
       " 'nationals',\n",
       " 'nationals',\n",
       " 'nationals',\n",
       " 'companies',\n",
       " 'companies',\n",
       " 'companies']"
      ]
     },
     "execution_count": 4,
     "metadata": {},
     "output_type": "execute_result"
    }
   ],
   "source": [
    "the_russians"
   ]
  },
  {
   "cell_type": "code",
   "execution_count": null,
   "metadata": {},
   "outputs": [],
   "source": []
  }
 ],
 "metadata": {
  "kernelspec": {
   "display_name": "Python 3",
   "language": "python",
   "name": "python3"
  },
  "language_info": {
   "codemirror_mode": {
    "name": "ipython",
    "version": 3
   },
   "file_extension": ".py",
   "mimetype": "text/x-python",
   "name": "python",
   "nbconvert_exporter": "python",
   "pygments_lexer": "ipython3",
   "version": "3.6.4"
  }
 },
 "nbformat": 4,
 "nbformat_minor": 2
}
