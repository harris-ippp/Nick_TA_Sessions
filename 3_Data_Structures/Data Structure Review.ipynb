{
 "cells": [
  {
   "cell_type": "markdown",
   "metadata": {},
   "source": [
    "# A Quick Review of Data Structures\n",
    "Nick's TA Session - April 16th\n"
   ]
  },
  {
   "cell_type": "markdown",
   "metadata": {},
   "source": [
    "## Lists\n",
    "- order matters\n",
    "- can have different variable types as elements\n",
    "- are quirky and fun\n",
    "- have a lot of *methods* (read the docs!)"
   ]
  },
  {
   "cell_type": "code",
   "execution_count": 45,
   "metadata": {},
   "outputs": [
    {
     "name": "stdout",
     "output_type": "stream",
     "text": [
      "<built-in method reverse of list object at 0x7f409809f808>\n",
      "[7, 6, 5, 4, 3, 2, 1]\n"
     ]
    }
   ],
   "source": [
    "my_list = [1,2,3,4,5,6,7]\n",
    "#print(my_list)\n",
    "print(my_list.reverse)\n",
    "my_list.reverse()\n",
    "#print(my_list)\n",
    "# Note different methods permantly alter the list (but not all)\n",
    "#print(my_list)\n",
    "print(my_list)"
   ]
  },
  {
   "cell_type": "markdown",
   "metadata": {},
   "source": [
    "### Copying a List (not what you think)"
   ]
  },
  {
   "cell_type": "code",
   "execution_count": 13,
   "metadata": {},
   "outputs": [
    {
     "name": "stdout",
     "output_type": "stream",
     "text": [
      "139915721405536\n",
      "139915721405600\n"
     ]
    }
   ],
   "source": [
    "a = 5\n",
    "b = a\n",
    "\n",
    "b = 7\n",
    "\n",
    "print(id(a))\n",
    "print(id(7))"
   ]
  },
  {
   "cell_type": "code",
   "execution_count": 5,
   "metadata": {},
   "outputs": [
    {
     "name": "stdout",
     "output_type": "stream",
     "text": [
      "[7, 6, 5, 4, 3, 2, 1]\n"
     ]
    }
   ],
   "source": [
    "copy_list = my_list\n",
    "print(copy_list)"
   ]
  },
  {
   "cell_type": "code",
   "execution_count": 8,
   "metadata": {},
   "outputs": [],
   "source": [
    "copy_list.append('hello!')"
   ]
  },
  {
   "cell_type": "code",
   "execution_count": 19,
   "metadata": {},
   "outputs": [
    {
     "name": "stdout",
     "output_type": "stream",
     "text": [
      "[7, 6, 5, 4, 3, 2, 1, 'hello!']\n",
      "[7, 6, 5, 4, 3, 2, 1, 'hello!']\n",
      "139915407552456\n",
      "139915407552456\n",
      "[7, 6, 5, 4, 3, 2, 1, 'hello!']\n",
      "[7, 6, 5, 4, 3, 2, 1, 'hello!', 'ok']\n",
      "[7, 6, 5, 4, 3, 2, 1, 'hello!']\n"
     ]
    }
   ],
   "source": [
    "print(copy_list)\n",
    "print(my_list)\n",
    "print(id(copy_list))\n",
    "print(id(my_list))\n",
    "my_actual_copy = my_list[:]\n",
    "print(my_actual_copy)\n",
    "my_actual_copy.append('ok')\n",
    "print(my_actual_copy)\n",
    "print(my_list)"
   ]
  },
  {
   "cell_type": "markdown",
   "metadata": {},
   "source": [
    "When you copy a list - it actually makes a *pointer* that points to the original list! I encourage you to play around with lists and see what happens.\n",
    "\n",
    "#### Avoiding this problem.\n",
    "Simply reinstantiate your list in whatever function you use it in."
   ]
  },
  {
   "cell_type": "code",
   "execution_count": 36,
   "metadata": {},
   "outputs": [
    {
     "data": {
      "text/plain": [
       "1"
      ]
     },
     "execution_count": 36,
     "metadata": {},
     "output_type": "execute_result"
    }
   ],
   "source": [
    "l = [1,2,3,4]\n",
    "d = {'a':1}\n",
    "d['a']"
   ]
  },
  {
   "cell_type": "code",
   "execution_count": 34,
   "metadata": {},
   "outputs": [
    {
     "name": "stdout",
     "output_type": "stream",
     "text": [
      "hello Nick\n"
     ]
    }
   ],
   "source": [
    "def my_function(name='Nick'):\n",
    "    print('hello', name)\n",
    "    \n",
    "my_function()"
   ]
  },
  {
   "cell_type": "code",
   "execution_count": 47,
   "metadata": {},
   "outputs": [
    {
     "name": "stdout",
     "output_type": "stream",
     "text": [
      "['N', 'i', 'c', 'k', ' ', 'T', 'a', 'l', 'l', 'a', 'n', 't', ' ', ':', ')']\n",
      "['N', 'i', 'c', 'k', ' ', 'T', 'a', 'l', 'l', 'a', 'n', 't', ' ', ':', ')']\n",
      "['Python is great!',\n",
      " 'Python is great!',\n",
      " 'Python is great!',\n",
      " 'Python is great!',\n",
      " 'Python is great!',\n",
      " 'Python is great!',\n",
      " 'Python is great!',\n",
      " 'Python is great!',\n",
      " 'Python is great!',\n",
      " 'Python is great!']\n",
      "['Python is great!',\n",
      " 'Python is great!',\n",
      " 'Python is great!',\n",
      " 'Python is great!',\n",
      " 'Python is great!',\n",
      " 'Python is great!',\n",
      " 'Python is great!',\n",
      " 'Python is great!',\n",
      " 'Python is great!',\n",
      " 'Python is great!',\n",
      " 'Python is great!',\n",
      " 'Python is great!',\n",
      " 'Python is great!',\n",
      " 'Python is great!',\n",
      " 'Python is great!',\n",
      " 'Python is great!',\n",
      " 'Python is great!',\n",
      " 'Python is great!',\n",
      " 'Python is great!',\n",
      " 'Python is great!']\n"
     ]
    }
   ],
   "source": [
    "def make_a_fresh_list():\n",
    "    new_list = []\n",
    "    for character in \"Nick Tallant :)\":\n",
    "        new_list.append(character)\n",
    "    return new_list\n",
    "\n",
    "print(make_a_fresh_list())\n",
    "print(make_a_fresh_list())\n",
    "\n",
    "from pprint import pprint\n",
    "#Intead of \n",
    "new_list = []\n",
    "def not_a_fresh_list(new_list):\n",
    "    for i in range(10):\n",
    "        new_list.append('Python is great!')\n",
    "    return new_list\n",
    "pprint(not_a_fresh_list(new_list))\n",
    "pprint(not_a_fresh_list(new_list))"
   ]
  },
  {
   "cell_type": "markdown",
   "metadata": {},
   "source": [
    "## Dictionaries\n",
    "- iterable\n",
    "- order does not matter (the order will NOT be saved, even if it seems like it)\n",
    "- also a pointer\n",
    "- uses {} instead of [] for structure"
   ]
  },
  {
   "cell_type": "code",
   "execution_count": 48,
   "metadata": {},
   "outputs": [
    {
     "name": "stdout",
     "output_type": "stream",
     "text": [
      "{'a': 1, 'b': 2, 'c': 3}\n",
      "{'a': 1, 'b': 2, 'c': 3}\n"
     ]
    }
   ],
   "source": [
    "# Pointer Example\n",
    "my_dict = {'a': 1, 'b': 2}\n",
    "my_other_dict = my_dict\n",
    "my_other_dict['c'] = 3\n",
    "print(my_other_dict)\n",
    "print(my_dict)"
   ]
  },
  {
   "cell_type": "code",
   "execution_count": 52,
   "metadata": {},
   "outputs": [
    {
     "data": {
      "text/plain": [
       "'$142,822'"
      ]
     },
     "execution_count": 52,
     "metadata": {},
     "output_type": "execute_result"
    }
   ],
   "source": [
    "# Source: https://www.opensecrets.org/members-of-congress/contributors?cid=N00004357&cycle=CAREER\n",
    "Paul_Ryans_top_5 = {\"Northwestern Mutual\": \"$271,450\",\n",
    "                    \"BlackRock Inc\": \"$182,300\",\n",
    "                    \"Blackstone Group\": \"$156,812\",\n",
    "                    \"Blue Cross/Blue Shield\":\"$153,211\",\n",
    "                    \"Koch Industries\" :\"$142,822\"}\n",
    "# hint - use replace method\n",
    "Paul_Ryans_top_5['Koch Industries']"
   ]
  },
  {
   "cell_type": "code",
   "execution_count": 23,
   "metadata": {},
   "outputs": [
    {
     "name": "stdout",
     "output_type": "stream",
     "text": [
      "Northwestern Mutual\n",
      "BlackRock Inc\n",
      "Blackstone Group\n",
      "Blue Cross/Blue Shield\n",
      "Koch Industries\n"
     ]
    }
   ],
   "source": [
    "for company in Paul_Ryans_top_5:\n",
    "    print(company)"
   ]
  },
  {
   "cell_type": "code",
   "execution_count": 58,
   "metadata": {},
   "outputs": [
    {
     "data": {
      "text/plain": [
       "dict_keys"
      ]
     },
     "execution_count": 58,
     "metadata": {},
     "output_type": "execute_result"
    }
   ],
   "source": [
    "type(Paul_Ryans_top_5.keys())"
   ]
  },
  {
   "cell_type": "code",
   "execution_count": 54,
   "metadata": {},
   "outputs": [
    {
     "name": "stdout",
     "output_type": "stream",
     "text": [
      "Northwestern Mutual\n",
      "BlackRock Inc\n",
      "Blackstone Group\n",
      "Blue Cross/Blue Shield\n",
      "Koch Industries\n"
     ]
    }
   ],
   "source": [
    "for company in Paul_Ryans_top_5.keys():\n",
    "    print(company)"
   ]
  },
  {
   "cell_type": "code",
   "execution_count": 25,
   "metadata": {},
   "outputs": [
    {
     "name": "stdout",
     "output_type": "stream",
     "text": [
      "$271,450\n",
      "$182,300\n",
      "$156,812\n",
      "$153,211\n",
      "$142,822\n"
     ]
    }
   ],
   "source": [
    "# note it is not values(), not values - this is because we are using a method!\n",
    "for amount in Paul_Ryans_top_5.values():\n",
    "    print(amount)"
   ]
  },
  {
   "cell_type": "code",
   "execution_count": 28,
   "metadata": {},
   "outputs": [
    {
     "name": "stdout",
     "output_type": "stream",
     "text": [
      "('Northwestern Mutual', '$271,450')\n",
      "('BlackRock Inc', '$182,300')\n",
      "('Blackstone Group', '$156,812')\n",
      "('Blue Cross/Blue Shield', '$153,211')\n",
      "('Koch Industries', '$142,822')\n"
     ]
    }
   ],
   "source": [
    "for tup in Paul_Ryans_top_5.items():\n",
    "    print(tup)"
   ]
  },
  {
   "cell_type": "code",
   "execution_count": 64,
   "metadata": {},
   "outputs": [
    {
     "name": "stdout",
     "output_type": "stream",
     "text": [
      "Northwestern Mutual bribed Paul Ryan with $271,450\n",
      "BlackRock Inc bribed Paul Ryan with $182,300\n",
      "Blackstone Group bribed Paul Ryan with $156,812\n",
      "Blue Cross/Blue Shield bribed Paul Ryan with $153,211\n",
      "Koch Industries bribed Paul Ryan with $142,822\n"
     ]
    }
   ],
   "source": [
    "for key, value in Paul_Ryans_top_5.items():\n",
    "    print(key, \"bribed Paul Ryan with\", value)"
   ]
  },
  {
   "cell_type": "markdown",
   "metadata": {},
   "source": [
    "# Task:\n",
    "### Sum up the five \"contributions\" Paul Ryan received.\n",
    "[helpful link](https://docs.python.org/3/library/stdtypes.html?highlight=str%20replace#str.replace)"
   ]
  },
  {
   "cell_type": "code",
   "execution_count": 30,
   "metadata": {},
   "outputs": [],
   "source": [
    "# YOUR CODE HERE"
   ]
  },
  {
   "cell_type": "markdown",
   "metadata": {},
   "source": [
    "## Tuples\n",
    "- order matters\n",
    "- immutable (can't be changed!)"
   ]
  },
  {
   "cell_type": "code",
   "execution_count": 60,
   "metadata": {},
   "outputs": [
    {
     "name": "stdout",
     "output_type": "stream",
     "text": [
      "a\n",
      "b\n",
      "1\n",
      "2\n",
      "3\n"
     ]
    }
   ],
   "source": [
    "# We can still iterate!\n",
    "my_tuple = ('a','b',1,2,3)\n",
    "for thing in my_tuple:\n",
    "    print(thing)"
   ]
  },
  {
   "cell_type": "code",
   "execution_count": 61,
   "metadata": {},
   "outputs": [
    {
     "ename": "TypeError",
     "evalue": "'tuple' object does not support item assignment",
     "output_type": "error",
     "traceback": [
      "\u001b[0;31m---------------------------------------------------------------------------\u001b[0m",
      "\u001b[0;31mTypeError\u001b[0m                                 Traceback (most recent call last)",
      "\u001b[0;32m<ipython-input-61-5ee95b12a494>\u001b[0m in \u001b[0;36m<module>\u001b[0;34m()\u001b[0m\n\u001b[1;32m      1\u001b[0m \u001b[0;31m# But we can't do this\u001b[0m\u001b[0;34m\u001b[0m\u001b[0;34m\u001b[0m\u001b[0m\n\u001b[0;32m----> 2\u001b[0;31m \u001b[0mmy_tuple\u001b[0m\u001b[0;34m[\u001b[0m\u001b[0;36m0\u001b[0m\u001b[0;34m]\u001b[0m \u001b[0;34m=\u001b[0m \u001b[0;34m'c'\u001b[0m\u001b[0;34m\u001b[0m\u001b[0m\n\u001b[0m",
      "\u001b[0;31mTypeError\u001b[0m: 'tuple' object does not support item assignment"
     ]
    }
   ],
   "source": [
    "# But we can't do this\n",
    "my_tuple[0] = 'c'"
   ]
  },
  {
   "cell_type": "markdown",
   "metadata": {},
   "source": [
    "# Sets\n",
    "- order does not matter\n",
    "- efficient\n",
    "- only keeps unique values\n",
    "- think of it as an unordered list or a dictionary with only keys\n",
    "- can NOT be indexed"
   ]
  },
  {
   "cell_type": "code",
   "execution_count": 31,
   "metadata": {},
   "outputs": [
    {
     "name": "stdout",
     "output_type": "stream",
     "text": [
      "c\n",
      "b\n",
      "a\n"
     ]
    }
   ],
   "source": [
    "my_set = {'a','b','c'}\n",
    "for letter in my_set:\n",
    "    print(letter)"
   ]
  },
  {
   "cell_type": "code",
   "execution_count": 32,
   "metadata": {},
   "outputs": [
    {
     "name": "stdout",
     "output_type": "stream",
     "text": [
      "[0, 1, 0, 1, 0, 1, 0, 1]\n",
      "{0, 1}\n"
     ]
    }
   ],
   "source": [
    "my_list_2 = [0,1,0,1,0,1,0,1]\n",
    "print(my_list_2)\n",
    "print(set(my_list_2))"
   ]
  },
  {
   "cell_type": "markdown",
   "metadata": {},
   "source": [
    "# Indexing\n",
    "Basically anytime you want something from a data structure, use \"[ what you want ]\" and python will go get it for you.\n",
    "\n",
    "Lists, tuples, sets, and strings use the *index* (position), while dictionaries use a key."
   ]
  },
  {
   "cell_type": "code",
   "execution_count": 35,
   "metadata": {},
   "outputs": [
    {
     "name": "stdout",
     "output_type": "stream",
     "text": [
      "[7, 6, 5, 4, 3, 2, 1, 'hello!'] 7\n",
      "{'a': 1, 'b': 2, 'c': 3} 1\n",
      "('a', 'b') a\n",
      "t\n"
     ]
    }
   ],
   "source": [
    "print(my_list, my_list[0])\n",
    "print(my_dict, my_dict['a'])\n",
    "print(my_tuple, my_tuple[0])\n",
    "print('this is a string'[0])"
   ]
  },
  {
   "cell_type": "code",
   "execution_count": null,
   "metadata": {},
   "outputs": [],
   "source": []
  }
 ],
 "metadata": {
  "kernelspec": {
   "display_name": "Python 3",
   "language": "python",
   "name": "python3"
  },
  "language_info": {
   "codemirror_mode": {
    "name": "ipython",
    "version": 3
   },
   "file_extension": ".py",
   "mimetype": "text/x-python",
   "name": "python",
   "nbconvert_exporter": "python",
   "pygments_lexer": "ipython3",
   "version": "3.6.4"
  }
 },
 "nbformat": 4,
 "nbformat_minor": 2
}
